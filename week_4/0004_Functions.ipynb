{
 "cells": [
  {
   "attachments": {},
   "cell_type": "markdown",
   "metadata": {},
   "source": [
    "# Python Function"
   ]
  },
  {
   "attachments": {},
   "cell_type": "markdown",
   "metadata": {},
   "source": [
    "# User-defined Functions"
   ]
  },
  {
   "cell_type": "code",
   "execution_count": 6,
   "metadata": {},
   "outputs": [
    {
     "name": "stdout",
     "output_type": "stream",
     "text": [
      "7\n"
     ]
    }
   ],
   "source": [
    "def add_numbers(a, b):\n",
    "    return a + b\n",
    "\n",
    "print(add_numbers(4, 3))"
   ]
  },
  {
   "cell_type": "code",
   "execution_count": 1,
   "metadata": {},
   "outputs": [
    {
     "name": "stdout",
     "output_type": "stream",
     "text": [
      "The sum from the two inputs is 3\n"
     ]
    }
   ],
   "source": [
    "def add_numbers():\n",
    "    a = int(input(\"Enter first number for addition: \"))\n",
    "    b = int(input(\"Enter the second number to add: \"))\n",
    "    print(\"The sum from the two inputs is\", a + b)\n",
    "\n",
    "add_numbers()"
   ]
  },
  {
   "attachments": {},
   "cell_type": "markdown",
   "metadata": {},
   "source": [
    "# Examples of user-defined functions using *args"
   ]
  },
  {
   "cell_type": "code",
   "execution_count": 2,
   "metadata": {},
   "outputs": [
    {
     "name": "stdout",
     "output_type": "stream",
     "text": [
      "5\n",
      "10\n",
      "15\n",
      "55\n"
     ]
    }
   ],
   "source": [
    "def add_numbers(*args):\n",
    "    result = 0\n",
    "    for arg in args:\n",
    "        result += arg\n",
    "    return result\n",
    "\n",
    "print(add_numbers(5)) #using only one numbers\n",
    "print(add_numbers(5, 5)) #adding two numbers\n",
    "print(add_numbers(5, 5, 5)) #adding three numbers\n",
    "print(add_numbers(5, 5, 5, 5, 10, 25)) #adding >3 numbers"
   ]
  },
  {
   "cell_type": "code",
   "execution_count": 58,
   "metadata": {},
   "outputs": [
    {
     "name": "stdout",
     "output_type": "stream",
     "text": [
      "Addition: 8\n",
      "Multiplication: 15\n",
      "Subtraction: 2\n",
      "Division (Int): 1\n",
      "Division with remainder (Float): 1.6666666666666667\n",
      "\n",
      "Adding >=2 numbers: 12\n",
      "Adding >=2 numbers: 16\n",
      "Multiplying >=2 numbers: 60\n",
      "Performing different operations with more than two numbers: 36\n",
      "\n",
      "Sample Equations\n",
      "5 + 3 + 4 = 12\n",
      "4 * (5 + 4) = 36\n",
      "4 * 4 / 5^2 = 0.64\n"
     ]
    }
   ],
   "source": [
    "#Simple Calculator with 16 lines\n",
    "def calculator(*args):\n",
    "    if len(args) == 0:\n",
    "        return 0\n",
    "    result = args[0]\n",
    "    i = 1\n",
    "    while i < len(args):\n",
    "        if args[i] == \"+\":\n",
    "            result += args[i+1]\n",
    "        elif args[i] == \"-\":\n",
    "            result -= args[i+1]\n",
    "        elif args[i] == \"*\":\n",
    "            result *= args[i+1]\n",
    "        elif args[i] == \"/\":\n",
    "            result /= args[i+1]\n",
    "        i += 2\n",
    "    return result\n",
    "\n",
    "x = 5\n",
    "y = 3\n",
    "\n",
    "print(f\"Addition: {calculator(x+y)}\")\n",
    "print(f\"Multiplication: {calculator(x*y)}\")\n",
    "print(f\"Subtraction: {calculator(x-y)}\")\n",
    "print(f\"Division (Int): {calculator(x//y)}\")\n",
    "print(f\"Division with remainder (Float): {calculator(x/y)}\")\n",
    "\n",
    "print()\n",
    "\n",
    "z = 4\n",
    "\n",
    "print(f\"Adding >=2 numbers: {calculator(x+y+z)}\")\n",
    "print(f\"Adding >=2 numbers: {calculator(x+y+z+4)}\")\n",
    "\n",
    "print(f\"Multiplying >=2 numbers: {calculator(x*y*z)}\")\n",
    "\n",
    "print(f\"Performing different operations with more than two numbers: {calculator(z*(x+z))}\")\n",
    "\n",
    "print()\n",
    "print(\"Sample Equations\")\n",
    "print(f\"{x} + {y} + {z} = {calculator(x+y+z)}\")\n",
    "print(f\"{z} * ({x} + {z}) = {calculator(z*(x+z))}\")\n",
    "print(f\"{z} * {z} / {x}^2 = {calculator(z * z / x**2)}\")\n"
   ]
  },
  {
   "cell_type": "code",
   "execution_count": 60,
   "metadata": {},
   "outputs": [
    {
     "name": "stdout",
     "output_type": "stream",
     "text": [
      "Addition: 8\n",
      "Multiplication: 15\n",
      "Subtraction: 2\n",
      "Division (Int): 1\n",
      "Division with remainder (Float): 1.6666666666666667\n",
      "\n",
      "Adding >=2 numbers: 12\n",
      "Adding >=2 numbers: 16\n",
      "Multiplying >=2 numbers: 60\n",
      "Performing different operations with more than two numbers: 36\n",
      "\n",
      "Sample Equations\n",
      "5 + 3 + 4 = 12\n",
      "4 * (5 + 4) = 36\n",
      "4 * 4 / 5^2 = 0.64\n"
     ]
    }
   ],
   "source": [
    "#Simple calculator with less lines of 14 and uses the zip method.\n",
    "def other_calculator(*args):\n",
    "    if len(args) == 0:\n",
    "        return 0\n",
    "    result = args[0]\n",
    "    for op, val in zip(args[1::2], args[2::2]):\n",
    "        if op == \"+\":\n",
    "            result += val\n",
    "        elif op == \"-\":\n",
    "            result -= val\n",
    "        elif op == \"*\":\n",
    "            result *= val\n",
    "        elif op == \"/\":\n",
    "            result /= val\n",
    "    return result\n",
    "\n",
    "print(f\"Addition: {other_calculator(x+y)}\")\n",
    "print(f\"Multiplication: {other_calculator(x*y)}\")\n",
    "print(f\"Subtraction: {other_calculator(x-y)}\")\n",
    "print(f\"Division (Int): {other_calculator(x//y)}\")\n",
    "print(f\"Division with remainder (Float): {other_calculator(x/y)}\")\n",
    "\n",
    "print()\n",
    "\n",
    "z = 4\n",
    "\n",
    "print(f\"Adding >=2 numbers: {other_calculator(x+y+z)}\")\n",
    "print(f\"Adding >=2 numbers: {other_calculator(x+y+z+4)}\")\n",
    "\n",
    "print(f\"Multiplying >=2 numbers: {other_calculator(x*y*z)}\")\n",
    "\n",
    "print(f\"Performing different operations with more than two numbers: {other_calculator(z*(x+z))}\")\n",
    "\n",
    "print()\n",
    "print(\"Sample Equations\")\n",
    "print(f\"{x} + {y} + {z} = {other_calculator(x+y+z)}\")\n",
    "print(f\"{z} * ({x} + {z}) = {other_calculator(z*(x+z))}\")\n",
    "print(f\"{z} * {z} / {x}^2 = {other_calculator(z * z / x**2)}\")"
   ]
  },
  {
   "attachments": {},
   "cell_type": "markdown",
   "metadata": {},
   "source": [
    "# Examples of user-define functions using **kwargs"
   ]
  },
  {
   "cell_type": "code",
   "execution_count": 61,
   "metadata": {},
   "outputs": [
    {
     "name": "stdout",
     "output_type": "stream",
     "text": [
      "name: Alice\n",
      "age: 25\n",
      "city: New York\n"
     ]
    }
   ],
   "source": [
    "def print_kwargs(**kwargs):\n",
    "    for key, value in kwargs.items():\n",
    "        print(f\"{key}: {value}\")\n",
    "\n",
    "print_kwargs(name=\"Alice\", age=25, city=\"New York\")"
   ]
  },
  {
   "cell_type": "code",
   "execution_count": 71,
   "metadata": {},
   "outputs": [
    {
     "name": "stdout",
     "output_type": "stream",
     "text": [
      "{'username': 'johndoe', 'password': 'password', 'email': None, 'age': None}\n",
      "{'username': 'johndoe', 'password': 'password', 'email': 'johndoe@example.com', 'age': None}\n",
      "{'username': 'johndoe', 'password': 'password', 'email': 'johndoe@example.com', 'age': 30}\n"
     ]
    }
   ],
   "source": [
    "def create_user(**kwargs):\n",
    "    # Extract user information from kwargs\n",
    "    username = kwargs.get('username')\n",
    "    password = kwargs.get('password')\n",
    "    email = kwargs.get('email')\n",
    "    age = kwargs.get('age')\n",
    "\n",
    "    # Perform validation checks on user information\n",
    "    if not username or not password:\n",
    "        raise ValueError(\"Username and password are required.\")\n",
    "\n",
    "    if age and not isinstance(age, int):\n",
    "        raise ValueError(\"Age must be an integer.\")\n",
    "\n",
    "    # Create a new user in the system\n",
    "    user_data = {\n",
    "        'username': username,\n",
    "        'password': password,\n",
    "        'email': email,\n",
    "        'age': age,\n",
    "        # Add other user data fields as needed\n",
    "    }\n",
    "    # Code to add the new user data to the system database would go here.\n",
    "    \n",
    "    return user_data\n",
    "\n",
    "user1 = create_user(username='johndoe', password='password')\n",
    "\n",
    "print(user1)\n",
    "\n",
    "user2 = create_user(username='johndoe', password='password', email='johndoe@example.com')\n",
    "\n",
    "print(user2)\n",
    "\n",
    "user3 = create_user(username='johndoe', password='password', email='johndoe@example.com', age=30)\n",
    "\n",
    "print(user3)\n"
   ]
  },
  {
   "cell_type": "code",
   "execution_count": 79,
   "metadata": {},
   "outputs": [
    {
     "name": "stdout",
     "output_type": "stream",
     "text": [
      "{'maker': 'Toyota', 'model': 'Corolla', 'year': 2019, 'color': 'Blue', 'engine': 'Unknown', 'transmission': 'Unknown', 'options': ['Navigation', 'Sunroof']}\n"
     ]
    }
   ],
   "source": [
    "def build_car(**kwargs):\n",
    "    car = {}\n",
    "    car['maker'] = kwargs.get('maker', 'Unknown')\n",
    "    car['model'] = kwargs.get('model', 'Unknown')\n",
    "    car['year'] = kwargs.get('year', 0)\n",
    "    car['color'] = kwargs.get('color', 'Unknown')\n",
    "    car['engine'] = kwargs.get('engine', 'Unknown')\n",
    "    car['transmission'] = kwargs.get('transmission', 'Unknown')\n",
    "    car['options'] = kwargs.get('options', [])\n",
    "\n",
    "    return car\n",
    "\n",
    "my_car = build_car(maker='Toyota', model='Corolla', year=2019, color='Blue', options=['Navigation', 'Sunroof'])\n",
    "\n",
    "print(my_car)\n"
   ]
  },
  {
   "attachments": {},
   "cell_type": "markdown",
   "metadata": {},
   "source": [
    "# User-defined functions using both standard arguments and **kwargs"
   ]
  },
  {
   "cell_type": "code",
   "execution_count": 90,
   "metadata": {},
   "outputs": [
    {
     "name": "stdout",
     "output_type": "stream",
     "text": [
      "Sending email with subject \"Test Email\" and body \"This is a test email\" from johndoe@example.com to ['janedoe@example.com']\n",
      "\n"
     ]
    }
   ],
   "source": [
    "def send_email(subject, body, **kwargs):\n",
    "    # Get email parameters from kwargs, or use default values\n",
    "    sender = kwargs.get('sender', 'noreply@example.com')\n",
    "    recipients = kwargs.get('recipients', [])\n",
    "    cc = kwargs.get('cc', [])\n",
    "    bcc = kwargs.get('bcc', [])\n",
    "    attachments = kwargs.get('attachments', [])\n",
    "\n",
    "    # Code to actually send the email would go here\n",
    "    print(f'Sending email with subject \"{subject}\" and body \"{body}\" from {sender} to {recipients}')\n",
    "\n",
    "    # Return a status indicating success or failure\n",
    "    return True\n",
    "\n",
    "\n",
    "send_email('Test Email', 'This is a test email',bcc='yo@yo.com', sender='johndoe@example.com', recipients=['janedoe@example.com'], cc=['boss@example.com'])\n",
    "print()\n",
    "\n"
   ]
  },
  {
   "cell_type": "code",
   "execution_count": 92,
   "metadata": {},
   "outputs": [
    {
     "name": "stdout",
     "output_type": "stream",
     "text": [
      "Sending email with subject \"Test Email\" and body \"This is a test email\" from noreply@example.com to []\n"
     ]
    },
    {
     "data": {
      "text/plain": [
       "True"
      ]
     },
     "execution_count": 92,
     "metadata": {},
     "output_type": "execute_result"
    }
   ],
   "source": [
    "#Removing the no sender email will turn the recepient as noreply@example.com\n",
    "send_email('Test Email', 'This is a test email', cc=['boss@example.com'])"
   ]
  },
  {
   "cell_type": "code",
   "execution_count": 104,
   "metadata": {},
   "outputs": [
    {
     "name": "stdout",
     "output_type": "stream",
     "text": [
      "Report: Game World Report\n",
      "Data: {'World Name': 'Fantasy World', 'Player Count': 5, 'Quest Count': 10, 'Level Cap': 50}\n",
      "Orientation: landscape\n",
      "Margin: 0.5\n",
      "Font size: 12\n",
      "\n"
     ]
    }
   ],
   "source": [
    "def generate_report(title, data, **kwargs):\n",
    "    # Set default values for any optional arguments\n",
    "    orientation = kwargs.get('orientation', 'portrait')\n",
    "    margin = kwargs.get('margin', 1.0)\n",
    "    font_size = kwargs.get('font_size', 12)\n",
    "\n",
    "    # Generate report with given data and options\n",
    "    report_string = f\"Report: {title}\\n\"\n",
    "    report_string += f\"Data: {data}\\n\"\n",
    "    report_string += f\"Orientation: {orientation}\\n\"\n",
    "    report_string += f\"Margin: {margin}\\n\"\n",
    "    report_string += f\"Font size: {font_size}\\n\"\n",
    "\n",
    "    # Return the report as a string\n",
    "    return report_string\n",
    "\n",
    "# Example game data\n",
    "world_name = 'Fantasy World'\n",
    "player_count = 5\n",
    "quest_count = 10\n",
    "level_cap = 50\n",
    "\n",
    "# Generate a report about the game world\n",
    "game_data = {\n",
    "    'World Name': world_name,\n",
    "    'Player Count': player_count,\n",
    "    'Quest Count': quest_count,\n",
    "    'Level Cap': level_cap,\n",
    "}\n",
    "report = generate_report('Game World Report', game_data, orientation='landscape', margin=0.5)\n",
    "\n",
    "# Print the report\n",
    "print(report)\n"
   ]
  },
  {
   "attachments": {},
   "cell_type": "markdown",
   "metadata": {},
   "source": [
    "# Using a standard arugment, *args, and **kwargs in one user-defined function"
   ]
  },
  {
   "attachments": {},
   "cell_type": "markdown",
   "metadata": {},
   "source": [
    "In this function, arg1 and arg2 are standard arguments that must be provided when the function is called. Any additional positional arguments can be passed as *args, and any additional keyword arguments can be passed as **kwargs.\n",
    "\n",
    "As you can see, the standard arguments are printed first, followed by any additional positional arguments in a tuple, and any additional keyword arguments in a dictionary."
   ]
  },
  {
   "cell_type": "code",
   "execution_count": 90,
   "metadata": {},
   "outputs": [
    {
     "name": "stdout",
     "output_type": "stream",
     "text": [
      "arg1: hello\n",
      "arg2: 42\n",
      "args: ('additional arg1', 'addional_arg2')\n",
      "kwargs: {'keyword1': 'value1', 'keyword2': 'value2'}\n"
     ]
    }
   ],
   "source": [
    "def my_function(arg1, arg2, *args, **kwargs):\n",
    "    print(\"arg1:\", arg1)\n",
    "    print(\"arg2:\", arg2)\n",
    "    print(\"args:\", args)\n",
    "    print(\"kwargs:\", kwargs)\n",
    "\n",
    "my_function(\"hello\", 42, \"additional arg1\", \"addional_arg2\", keyword1=\"value1\", keyword2=\"value2\")\n"
   ]
  },
  {
   "attachments": {},
   "cell_type": "markdown",
   "metadata": {},
   "source": [
    "In this function, operation is a string that specifies the math operation to be performed. The function accepts variable-length arguments using *args and keyword arguments using **kwargs.\n",
    "\n",
    "If the operation is \"add\" or \"multiply\", the function performs the corresponding operation on the arguments provided, and displays the result with an appropriate message.\n",
    "\n",
    "If the operation is \"subtract\" or \"divide\", the function uses the kwargs argument start to specify the initial value for the operation, if it is provided, otherwise it uses a default value of 0 for subtraction and the first argument for division. \n",
    "\n",
    "Then it performs the corresponding operation on the remaining arguments and displays the result with an appropriate message."
   ]
  },
  {
   "cell_type": "code",
   "execution_count": 96,
   "metadata": {},
   "outputs": [
    {
     "name": "stdout",
     "output_type": "stream",
     "text": [
      "The sum of (1, 2, 3, 4) is 10\n",
      "The product of (1, 2, 3, 4) is 24\n",
      "The difference of (10, 2, 3, 4) starting from 10 is -9\n",
      "The quotient of (100, 2, 5) starting from 100 is 10.0\n"
     ]
    }
   ],
   "source": [
    "def do_math(operation, *args, **kwargs):\n",
    "    if operation == \"add\":\n",
    "        result = sum(args)\n",
    "        print(\"The sum of\", args, \"is\", result)\n",
    "    elif operation == \"multiply\":\n",
    "        result = 1\n",
    "        for arg in args:\n",
    "            result *= arg\n",
    "        print(\"The product of\", args, \"is\", result)\n",
    "    elif operation == \"subtract\":\n",
    "        start = kwargs.get(\"start\", 0)\n",
    "        result = start\n",
    "        for arg in args:\n",
    "            result -= arg\n",
    "        print(\"The difference of\", args, \"starting from\", start, \"is\", result)\n",
    "    elif operation == \"divide\":\n",
    "        start = kwargs.get(\"start\", args[0])\n",
    "        result = start\n",
    "        for arg in args[1:]:\n",
    "            result /= arg\n",
    "        print(\"The quotient of\", args, \"starting from\", start, \"is\", result)\n",
    "    else:\n",
    "        print(\"Invalid operation\")\n",
    "\n",
    "do_math(\"add\", 1, 2, 3, 4) # Outputs: The sum of (1, 2, 3, 4) is 10\n",
    "do_math(\"multiply\", 1, 2, 3, 4) # Outputs: The product of (1, 2, 3, 4) is 24\n",
    "do_math(\"subtract\", 10, 2, 3, 4, start=10) # Outputs: The difference of (10, 2, 3, 4) starting from 10 is 1\n",
    "do_math(\"divide\", 100, 2, 5, start=100) # Outputs: The quotient of (100, 2, 5) starting from 100 is 10.0"
   ]
  },
  {
   "attachments": {},
   "cell_type": "markdown",
   "metadata": {},
   "source": [
    "# Built-in Functions"
   ]
  },
  {
   "cell_type": "code",
   "execution_count": 110,
   "metadata": {},
   "outputs": [
    {
     "name": "stdout",
     "output_type": "stream",
     "text": [
      "5\n",
      "6\n",
      "6\n"
     ]
    }
   ],
   "source": [
    "# Map\n",
    "\n",
    "def myfunc(n):\n",
    "  return len(n)\n",
    "\n",
    "fruits = map(myfunc, ('apple', 'banana', 'cherry'))\n",
    "\n",
    "for fruit in fruits:\n",
    "  print(fruit)"
   ]
  },
  {
   "cell_type": "code",
   "execution_count": null,
   "metadata": {},
   "outputs": [],
   "source": []
  },
  {
   "cell_type": "code",
   "execution_count": 100,
   "metadata": {},
   "outputs": [
    {
     "name": "stdout",
     "output_type": "stream",
     "text": [
      "18\n",
      "24\n",
      "32\n"
     ]
    }
   ],
   "source": [
    "# Filter\n",
    "\n",
    "ages = [5, 12, 17, 18, 24, 32]\n",
    "\n",
    "def myFunc(x):\n",
    "  if x < 18:\n",
    "    return False\n",
    "  else:\n",
    "    return True\n",
    "\n",
    "adults = filter(myFunc, ages)\n",
    "\n",
    "for x in adults:\n",
    "  print(x)"
   ]
  },
  {
   "cell_type": "code",
   "execution_count": 106,
   "metadata": {},
   "outputs": [
    {
     "name": "stdout",
     "output_type": "stream",
     "text": [
      "1\n",
      "4\n",
      "9\n",
      "16\n",
      "25\n"
     ]
    }
   ],
   "source": []
  },
  {
   "attachments": {},
   "cell_type": "markdown",
   "metadata": {},
   "source": [
    "# Lambda Functions"
   ]
  },
  {
   "attachments": {},
   "cell_type": "markdown",
   "metadata": {},
   "source": [
    "As a function argument: One common use case for lambda functions is to pass them as an argument to another function. For example, if you want to sort a list of tuples by the second item in each tuple, you could use the sorted function with a lambda function as the key parameter. Here's an example:\n",
    "\n",
    "In this example, the lambda function lambda x: x[1] returns the second element of each tuple, which is used as the key for sorting the list."
   ]
  },
  {
   "cell_type": "code",
   "execution_count": 99,
   "metadata": {},
   "outputs": [
    {
     "name": "stdout",
     "output_type": "stream",
     "text": [
      "8\n",
      "8\n"
     ]
    }
   ],
   "source": [
    "# Lambda can be shown side by side with a usual user-defined function\n",
    "\n",
    "x = 5\n",
    "y = 3\n",
    "\n",
    "def myfunc(x, y):\n",
    "    return x + y\n",
    "\n",
    "print(myfunc(x=x, y=y))\n",
    "\n",
    "lambda_sum = lambda x, y: x + y\n",
    "\n",
    "print(lambda_sum(x=x, y=y))"
   ]
  },
  {
   "attachments": {},
   "cell_type": "markdown",
   "metadata": {},
   "source": [
    "# Example to why Lambda function is powerful\n",
    "\n",
    "Using the sorted() function to sort a dictionary easily"
   ]
  },
  {
   "cell_type": "code",
   "execution_count": 60,
   "metadata": {},
   "outputs": [
    {
     "ename": "TypeError",
     "evalue": "'<' not supported between instances of 'dict' and 'dict'",
     "output_type": "error",
     "traceback": [
      "\u001b[1;31m---------------------------------------------------------------------------\u001b[0m",
      "\u001b[1;31mTypeError\u001b[0m                                 Traceback (most recent call last)",
      "\u001b[1;32md:\\learning_python\\week_4\\0004_Functions.ipynb Cell 17\u001b[0m in \u001b[0;36m<cell line: 2>\u001b[1;34m()\u001b[0m\n\u001b[0;32m      <a href='vscode-notebook-cell:/d%3A/learning_python/week_4/0004_Functions.ipynb#X54sZmlsZQ%3D%3D?line=0'>1</a>\u001b[0m a \u001b[39m=\u001b[39m [{\u001b[39m'\u001b[39m\u001b[39ma\u001b[39m\u001b[39m'\u001b[39m:\u001b[39m4\u001b[39m, \u001b[39m'\u001b[39m\u001b[39mb\u001b[39m\u001b[39m'\u001b[39m:\u001b[39m5\u001b[39m, \u001b[39m'\u001b[39m\u001b[39mc\u001b[39m\u001b[39m'\u001b[39m:\u001b[39m6\u001b[39m}, {\u001b[39m'\u001b[39m\u001b[39ma\u001b[39m\u001b[39m'\u001b[39m:\u001b[39m1\u001b[39m, \u001b[39m'\u001b[39m\u001b[39mb\u001b[39m\u001b[39m'\u001b[39m:\u001b[39m2\u001b[39m, \u001b[39m'\u001b[39m\u001b[39mc\u001b[39m\u001b[39m'\u001b[39m:\u001b[39m3\u001b[39m}, {\u001b[39m'\u001b[39m\u001b[39ma\u001b[39m\u001b[39m'\u001b[39m:\u001b[39m7\u001b[39m, \u001b[39m'\u001b[39m\u001b[39mb\u001b[39m\u001b[39m'\u001b[39m:\u001b[39m8\u001b[39m, \u001b[39m'\u001b[39m\u001b[39mc\u001b[39m\u001b[39m'\u001b[39m:\u001b[39m9\u001b[39m}]\n\u001b[1;32m----> <a href='vscode-notebook-cell:/d%3A/learning_python/week_4/0004_Functions.ipynb#X54sZmlsZQ%3D%3D?line=1'>2</a>\u001b[0m x \u001b[39m=\u001b[39m \u001b[39msorted\u001b[39;49m(a)\n\u001b[0;32m      <a href='vscode-notebook-cell:/d%3A/learning_python/week_4/0004_Functions.ipynb#X54sZmlsZQ%3D%3D?line=2'>3</a>\u001b[0m \u001b[39mprint\u001b[39m(x)\n",
      "\u001b[1;31mTypeError\u001b[0m: '<' not supported between instances of 'dict' and 'dict'"
     ]
    }
   ],
   "source": [
    "a = [{'a':4, 'b':5, 'c':6}, {'a':1, 'b':2, 'c':3}, {'a':7, 'b':8, 'c':9}]\n",
    "x = sorted(a)\n",
    "print(x)"
   ]
  },
  {
   "attachments": {},
   "cell_type": "markdown",
   "metadata": {},
   "source": [
    "Sorting the given example with the sort function is not possible, as sorted() does not support 'dict'\n",
    "\n",
    "Though a list can be sorted using the sorted() function."
   ]
  },
  {
   "cell_type": "code",
   "execution_count": 61,
   "metadata": {},
   "outputs": [
    {
     "name": "stdout",
     "output_type": "stream",
     "text": [
      "[1, 2, 3, 4, 5, 6, 7, 8, 9]\n"
     ]
    }
   ],
   "source": [
    "a = [4, 3, 2, 1, 5, 6, 9, 8, 7]\n",
    "x = sorted(a)\n",
    "print(x)"
   ]
  },
  {
   "cell_type": "code",
   "execution_count": 62,
   "metadata": {},
   "outputs": [
    {
     "name": "stdout",
     "output_type": "stream",
     "text": [
      "[{'a': 1, 'b': 2, 'c': 3}, {'a': 4, 'b': 5, 'c': 6}, {'a': 7, 'b': 8, 'c': 9}]\n"
     ]
    }
   ],
   "source": [
    "a = [{'a':4, 'b':5, 'c':6}, {'a':1, 'b':2, 'c':3}, {'a':7, 'b':8, 'c':9}]\n",
    "\n",
    "def compare_by_a(dict1):\n",
    "    return dict1['a']\n",
    "\n",
    "a_sorted = sorted(a, key=compare_by_a)\n",
    "\n",
    "print(a_sorted)\n"
   ]
  },
  {
   "cell_type": "code",
   "execution_count": 63,
   "metadata": {},
   "outputs": [
    {
     "name": "stdout",
     "output_type": "stream",
     "text": [
      "[('Beta', 19), ('Alpha', 25), ('Charlie', 32)]\n"
     ]
    }
   ],
   "source": [
    "data = [(\"Alpha\", 25), (\"Beta\", 19), (\"Charlie\", 32)]\n",
    "sorted_data = sorted(data, key=lambda x: x[1])\n",
    "print(sorted_data)"
   ]
  },
  {
   "cell_type": "code",
   "execution_count": 78,
   "metadata": {},
   "outputs": [
    {
     "name": "stdout",
     "output_type": "stream",
     "text": [
      "[{'a': 7, 'b': 8, 'c': 9}, {'a': 4, 'b': 5, 'c': 6}, {'a': 1, 'b': 2, 'c': 3}]\n",
      "\n",
      "7\n",
      "\n",
      "a\n"
     ]
    }
   ],
   "source": [
    "a = [{'a':4, 'b':5, 'c':6}, {'a':1, 'b':2, 'c':3}, {'a':7, 'b':8, 'c':9}]\n",
    "\n",
    "def compare_by_a(dict1):\n",
    "    return dict1['a']\n",
    "\n",
    "a_sorted = sorted(a, key=lambda x: x['c'], reverse=True)\n",
    "\n",
    "print(a_sorted)\n",
    "\n",
    "#Getting the value of 'a'\n",
    "print()\n",
    "print(a_sorted[0].get('a'))\n",
    "\n",
    "#Getting 'a'\n",
    "print()\n",
    "print(list(a_sorted[0].keys())[0]) \n"
   ]
  },
  {
   "attachments": {},
   "cell_type": "markdown",
   "metadata": {},
   "source": [
    "As a short anonymous function: Lambda functions are often used when you need a small function for a one-time use, and you don't want to define a full function with a name. Here's an example of using a lambda function to calculate the square of a number:\n",
    "\n",
    "In this example, the lambda function lambda x: x**2 takes a single argument x and returns its square."
   ]
  },
  {
   "cell_type": "code",
   "execution_count": 2,
   "metadata": {},
   "outputs": [
    {
     "name": "stdout",
     "output_type": "stream",
     "text": [
      "25\n"
     ]
    }
   ],
   "source": [
    "square = lambda x: x**2\n",
    "print(square(5))\n",
    "# Output: 25"
   ]
  },
  {
   "attachments": {},
   "cell_type": "markdown",
   "metadata": {},
   "source": [
    "In a filter: You can use a lambda function to filter elements from a list that meet a certain condition. For example, here's how you can filter a list of integers to only include even numbers:\n",
    "\n",
    "In this example, the lambda function lambda x: x % 2 == 0 checks whether a number is even (i.e., its remainder when divided by 2 is 0), and the filter function returns only those elements of the list that pass the test."
   ]
  },
  {
   "cell_type": "code",
   "execution_count": 3,
   "metadata": {},
   "outputs": [
    {
     "name": "stdout",
     "output_type": "stream",
     "text": [
      "[2, 4, 6]\n"
     ]
    }
   ],
   "source": [
    "numbers = [1, 2, 3, 4, 5, 6]\n",
    "even_numbers = list(filter(lambda x: x % 2 == 0, numbers))\n",
    "print(even_numbers)\n",
    "# Output: [2, 4, 6]\n"
   ]
  },
  {
   "attachments": {},
   "cell_type": "markdown",
   "metadata": {},
   "source": [
    "In a map: You can also use a lambda function to transform elements in a list. For example, if you have a list of strings representing numbers, you can use a lambda function to convert them to integers:\n",
    "\n",
    "In this example, the lambda function lambda x: int(x) takes a string x and converts it to an integer, and the map function applies the function to each element of the list."
   ]
  },
  {
   "cell_type": "code",
   "execution_count": 4,
   "metadata": {},
   "outputs": [
    {
     "name": "stdout",
     "output_type": "stream",
     "text": [
      "[1, 2, 3, 4, 5]\n"
     ]
    }
   ],
   "source": [
    "numbers_str = [\"1\", \"2\", \"3\", \"4\", \"5\"]\n",
    "numbers_int = list(map(lambda x: int(x), numbers_str))\n",
    "print(numbers_int)\n",
    "# Output: [1, 2, 3, 4, 5]\n"
   ]
  },
  {
   "attachments": {},
   "cell_type": "markdown",
   "metadata": {},
   "source": [
    "In a dictionary: You can use a lambda function to define the sorting order of a dictionary. For example, here's how you can sort a dictionary of names and ages by age:\n",
    "\n",
    "In this example, the lambda function lambda x: x[1] returns the age value for each key-value pair in the dictionary, which is used as the sorting key for the sorted function."
   ]
  },
  {
   "cell_type": "code",
   "execution_count": 5,
   "metadata": {},
   "outputs": [
    {
     "name": "stdout",
     "output_type": "stream",
     "text": [
      "{'Bob': 19, 'Alice': 25, 'Charlie': 32}\n"
     ]
    }
   ],
   "source": [
    "data = {\"Allan\": 25, \"Betty\": 19, \"Cass\": 32}\n",
    "sorted_data = dict(sorted(data.items(), key=lambda x: x[1]))\n",
    "print(sorted_data)\n",
    "# Output: {'Bob': 19, 'Alice': 25, 'Charlie': 32}\n"
   ]
  },
  {
   "cell_type": "code",
   "execution_count": 16,
   "metadata": {},
   "outputs": [],
   "source": [
    "people = [{'name': 'Aldous', 'age': 25},\n",
    "          {'name': 'Balmond', 'age': 19},\n",
    "          {'name': \"Chang'e\", 'age': 32}]"
   ]
  },
  {
   "attachments": {},
   "cell_type": "markdown",
   "metadata": {},
   "source": [
    "In this example, we define a list of dictionaries called people, where each dictionary represents a person and has keys for their name and age.\n",
    "\n",
    "We then define a named function sort_by_age, which takes a dictionary as input and returns the value of the 'age' key in that dictionary. This function is then used as the key argument when calling the sorted function to sort the people list by age.\n",
    "\n",
    "We also use a lambda function to sort the same list of people by age. The lambda function takes a dictionary as input and returns the value of the 'age' key in that dictionary. The resulting sorted list is stored in sorted_people_lambda.\n",
    "\n",
    "Both sorted_people_lambda and sorted_people_function contain the same sorted list of dictionaries, but sorted_people_function uses the named function sort_by_age, while sorted_people_lambda uses a lambda function to achieve the same result."
   ]
  },
  {
   "cell_type": "code",
   "execution_count": 17,
   "metadata": {},
   "outputs": [
    {
     "name": "stdout",
     "output_type": "stream",
     "text": [
      "[{'name': 'Balmond', 'age': 19}, {'name': 'Aldous', 'age': 25}, {'name': \"Chang'e\", 'age': 32}]\n"
     ]
    }
   ],
   "source": [
    "def sort_by_age(item):\n",
    "    return item['age']\n",
    "\n",
    "# Using a named function\n",
    "sorted_people_function = sorted(people, key=sort_by_age)\n",
    "print(sorted_people_function)"
   ]
  },
  {
   "cell_type": "code",
   "execution_count": 18,
   "metadata": {},
   "outputs": [
    {
     "name": "stdout",
     "output_type": "stream",
     "text": [
      "[{'name': 'Balmond', 'age': 19}, {'name': 'Aldous', 'age': 25}, {'name': \"Chang'e\", 'age': 32}]\n"
     ]
    }
   ],
   "source": [
    "# Using a lambda function\n",
    "sorted_people_lambda = sorted(people, key=lambda x: x['age'])\n",
    "print(sorted_people_lambda)"
   ]
  },
  {
   "cell_type": "code",
   "execution_count": 111,
   "metadata": {},
   "outputs": [
    {
     "name": "stdout",
     "output_type": "stream",
     "text": [
      "1\n",
      "4\n",
      "9\n",
      "16\n",
      "25\n"
     ]
    }
   ],
   "source": [
    "# Map\n",
    "\n",
    "numbers = [1, 2, 3, 4, 5]\n",
    "squares = map(lambda x: x**2, numbers)\n",
    "\n",
    "for square in squares:\n",
    "    print(square)\n"
   ]
  },
  {
   "cell_type": "code",
   "execution_count": 115,
   "metadata": {},
   "outputs": [
    {
     "name": "stdout",
     "output_type": "stream",
     "text": [
      "2\n",
      "4\n"
     ]
    }
   ],
   "source": [
    "numbers = [1, 2, 3, 4, 5]\n",
    "evens = filter(lambda x: x % 2 == 0, numbers)\n",
    "\n",
    "for num in evens:\n",
    "    print(num)"
   ]
  },
  {
   "cell_type": "code",
   "execution_count": 116,
   "metadata": {},
   "outputs": [
    {
     "name": "stdout",
     "output_type": "stream",
     "text": [
      "120\n"
     ]
    }
   ],
   "source": [
    "from functools import reduce\n",
    "\n",
    "numbers = [2, 3, 4, 5]\n",
    "\n",
    "product = reduce(lambda x, y: x * y, numbers)\n",
    "\n",
    "print(product)\n"
   ]
  },
  {
   "cell_type": "code",
   "execution_count": 125,
   "metadata": {},
   "outputs": [
    {
     "name": "stdout",
     "output_type": "stream",
     "text": [
      "10\n"
     ]
    }
   ],
   "source": [
    "def area_rect(**kwargs):\n",
    "    width = kwargs.get(\"width\", 1)\n",
    "    height = kwargs.get(\"height\", 1)\n",
    "    return width * height\n",
    "\n",
    "result = area_rect(width=5, height=2)\n",
    "\n",
    "print(result)"
   ]
  },
  {
   "cell_type": "code",
   "execution_count": 127,
   "metadata": {},
   "outputs": [
    {
     "name": "stdout",
     "output_type": "stream",
     "text": [
      "1\n",
      "2\n",
      "3\n",
      "name : John\n",
      "age : 30\n"
     ]
    }
   ],
   "source": [
    "def example_func(*args, **kwargs):\n",
    "    for arg in args:\n",
    "        print(arg)\n",
    "    \n",
    "    for key, value in kwargs.items():\n",
    "        print(key, \":\", value)\n",
    "\n",
    "example_func(1, 2, 3, name=\"John\", age=30)"
   ]
  },
  {
   "cell_type": "code",
   "execution_count": 129,
   "metadata": {},
   "outputs": [
    {
     "name": "stdout",
     "output_type": "stream",
     "text": [
      "38.88\n"
     ]
    }
   ],
   "source": [
    "def calculate_total_cost(discount_rate, *args, **kwargs):\n",
    "    total_cost = sum(args)\n",
    "    for item, discount in kwargs.items():\n",
    "        total_cost -= (discount * total_cost)\n",
    "    total_cost -= (discount_rate * total_cost)\n",
    "    return total_cost\n",
    "\n",
    "total_cost = calculate_total_cost(0.1, 10, 20, 30, apples=0.1, bananas=0.2)\n",
    "print(total_cost)\n"
   ]
  },
  {
   "cell_type": "code",
   "execution_count": null,
   "metadata": {},
   "outputs": [],
   "source": [
    "def my_function():\n",
    "    x = 5\n",
    "    print(x)"
   ]
  },
  {
   "cell_type": "code",
   "execution_count": 130,
   "metadata": {},
   "outputs": [],
   "source": [
    "from functools import reduce\n",
    "\n",
    "# User-defined function\n",
    "def sum_list(nums):\n",
    "    result = 0\n",
    "    for num in nums:\n",
    "        result += num\n",
    "    return result\n",
    "\n",
    "# Built-in function\n",
    "def sum_list_builtin(nums):\n",
    "    return sum(nums)\n",
    "\n",
    "# Built-in function with lambda\n",
    "def sum_list_lambda(nums):\n",
    "    return reduce(lambda x, y: x + y, nums)\n"
   ]
  },
  {
   "cell_type": "code",
   "execution_count": 131,
   "metadata": {},
   "outputs": [
    {
     "name": "stdout",
     "output_type": "stream",
     "text": [
      "15\n",
      "15\n",
      "15\n"
     ]
    }
   ],
   "source": [
    "nums = [1, 2, 3, 4, 5]\n",
    "\n",
    "# User-defined function\n",
    "print(sum_list(nums))\n",
    "\n",
    "# Built-in function\n",
    "print(sum_list_builtin(nums))\n",
    "\n",
    "# Built-in function with lambda\n",
    "print(sum_list_lambda(nums))\n"
   ]
  },
  {
   "cell_type": "code",
   "execution_count": null,
   "metadata": {},
   "outputs": [],
   "source": []
  }
 ],
 "metadata": {
  "kernelspec": {
   "display_name": "projects2022",
   "language": "python",
   "name": "python3"
  },
  "language_info": {
   "codemirror_mode": {
    "name": "ipython",
    "version": 3
   },
   "file_extension": ".py",
   "mimetype": "text/x-python",
   "name": "python",
   "nbconvert_exporter": "python",
   "pygments_lexer": "ipython3",
   "version": "3.11.2"
  },
  "orig_nbformat": 4,
  "vscode": {
   "interpreter": {
    "hash": "caba5fb2e65e5cd320935daeb5a23cf1221c4ea11b88a6babfa283dbfc6ad08a"
   }
  }
 },
 "nbformat": 4,
 "nbformat_minor": 2
}
